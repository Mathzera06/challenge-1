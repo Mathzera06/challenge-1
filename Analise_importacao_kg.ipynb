{
 "cells": [
  {
   "cell_type": "code",
   "execution_count": 1,
   "id": "d0e04ff7",
   "metadata": {},
   "outputs": [],
   "source": [
    "import pandas as pd\n",
    "\n",
    "# Carregando o arquivo CSV\n",
    "importacao_vinhos_de_mesa = pd.read_csv('dados/Importacao - Vinhos de Mesa.csv',\n",
    "  encoding='UTF-8',\n",
    "  sep=r'[;\\t]',\n",
    "  decimal=',',\n",
    "  thousands='.',\n",
    "  quotechar='\"',\n",
    "  engine='python')"
   ]
  },
  {
   "cell_type": "code",
   "execution_count": null,
   "id": "204940c9",
   "metadata": {},
   "outputs": [],
   "source": [
    "# Selecionar Colunas de Quantidade (Não terminam com '.1')\n",
    "quantidade_anual = [col for col in importacao_vinhos_de_mesa if not col.endswith('.1')]\n",
    "# DataFrame de Quantidade Importada\n",
    "quantidade_importada_kg = importacao_vinhos_de_mesa[['País'] + quantidade_anual].copy()"
   ]
  },
  {
   "cell_type": "code",
   "execution_count": null,
   "id": "f768fd95",
   "metadata": {},
   "outputs": [],
   "source": [
    "quantidade_importada_kg "
   ]
  }
 ],
 "metadata": {
  "kernelspec": {
   "display_name": "Python 3",
   "language": "python",
   "name": "python3"
  },
  "language_info": {
   "codemirror_mode": {
    "name": "ipython",
    "version": 3
   },
   "file_extension": ".py",
   "mimetype": "text/x-python",
   "name": "python",
   "nbconvert_exporter": "python",
   "pygments_lexer": "ipython3",
   "version": "3.12.4"
  }
 },
 "nbformat": 4,
 "nbformat_minor": 5
}
