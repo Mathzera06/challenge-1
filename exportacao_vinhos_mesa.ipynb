{
 "cells": [
  {
   "cell_type": "code",
   "execution_count": null,
   "id": "972b71d2",
   "metadata": {},
   "outputs": [],
   "source": [
    "import pandas as pd\n",
    "import matplotlib.pyplot as plt\n",
    "import matplotlib.ticker as ticker"
   ]
  },
  {
   "cell_type": "code",
   "execution_count": null,
   "id": "bb948445",
   "metadata": {},
   "outputs": [],
   "source": [
    "# Carregando o arquivo CSV (exportacao_vinhos_de_mesa)\n",
    "exportacao_vinhos_de_mesa = pd.read_csv(r'C:\\Users\\T-GAMER\\dados_pos\\challenge-1\\dados\\Exportacao - Vinho de Mesa.csv', encoding='UTF-8', sep=r'[;\\t]', decimal=',', thousands='.', quotechar='\"', engine='python')\n",
    "# df = pd.read_csv(r'C:\\Users\\T-GAMER\\Documents\\Estudos_Matheus_2025\\dados_pos\\Exportacao - Vinho de Mesa.csv', encoding='latin1', sep='\\t', quotechar='\"')"
   ]
  },
  {
   "cell_type": "code",
   "execution_count": null,
   "id": "c6e07f47",
   "metadata": {},
   "outputs": [],
   "source": [
    "valor_anual = [col for col in exportacao_vinhos_de_mesa if col.endswith('.1')]"
   ]
  },
  {
   "cell_type": "code",
   "execution_count": null,
   "id": "514804c0",
   "metadata": {},
   "outputs": [],
   "source": [
    "importado_por_ano_usd = exportacao_vinhos_de_mesa[['País'] + valor_anual].copy()\n",
    "importado_por_ano_usd.columns = importado_por_ano_usd.columns.str.replace('.1', '', regex=False)\n",
    "\n",
    "for col in importado_por_ano_usd.columns[1:]:\n",
    "  importado_por_ano_usd[col] = pd.to_numeric(importado_por_ano_usd[col], errors='coerce')"
   ]
  },
  {
   "cell_type": "code",
   "execution_count": null,
   "id": "af03b4c3",
   "metadata": {},
   "outputs": [],
   "source": [
    "# Gráfico de Valor importado por Ano por País\n",
    "fig, ax = plt.subplots(figsize=(10, 6))\n",
    "\n",
    "# Divisão de Eixo 100.000\n",
    "importado_por_ano_usd_indexado = importado_por_ano_usd.set_index('País') / 100_000\n",
    "\n",
    "# TOP 20 Países\n",
    "top20_paises = importado_por_ano_usd_indexado.sum(axis=1).nlargest(10).index\n",
    "df_top_10 = importado_por_ano_usd_indexado.loc[top20_paises]\n",
    "\n",
    "# Plotando o Gráfico (agora corretamente com os top 20)\n",
    "df_top_10.T.plot(ax=ax, marker='o')\n",
    "\n",
    "# Formatação de Valores\n",
    "ax.yaxis.set_major_formatter(ticker.StrMethodFormatter(\"{x:,.2f}\"))\n",
    "\n",
    "# Formatação Visual\n",
    "plt.title('Exportação de Vinhos por Ano - Top 10')\n",
    "plt.xlabel('Ano')\n",
    "plt.ylabel('Valor (US$)')\n",
    "plt.legend(title='País', loc='best', bbox_to_anchor=(1, 1), ncol=1)\n",
    "plt.grid(True)\n",
    "plt.tight_layout()\n",
    "plt.show()"
   ]
  }
 ],
 "metadata": {
  "kernelspec": {
   "display_name": "Python 3",
   "language": "python",
   "name": "python3"
  },
  "language_info": {
   "codemirror_mode": {
    "name": "ipython",
    "version": 3
   },
   "file_extension": ".py",
   "mimetype": "text/x-python",
   "name": "python",
   "nbconvert_exporter": "python",
   "pygments_lexer": "ipython3",
   "version": "3.11.9"
  }
 },
 "nbformat": 4,
 "nbformat_minor": 5
}
